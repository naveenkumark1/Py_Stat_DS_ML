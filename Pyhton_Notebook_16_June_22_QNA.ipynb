{
 "cells": [
  {
   "cell_type": "code",
   "execution_count": null,
   "id": "8cf45fed",
   "metadata": {},
   "outputs": [],
   "source": [
    "## & = \n",
    "\n",
    "20 = 10100 in binary\n",
    "20 = 10100\n",
    "\n",
    "10100 = 20  = & \n",
    "10100 = 20  = |\n",
    "00000 = 0   = ^"
   ]
  }
 ],
 "metadata": {
  "kernelspec": {
   "display_name": "Python 3 (ipykernel)",
   "language": "python",
   "name": "python3"
  },
  "language_info": {
   "codemirror_mode": {
    "name": "ipython",
    "version": 3
   },
   "file_extension": ".py",
   "mimetype": "text/x-python",
   "name": "python",
   "nbconvert_exporter": "python",
   "pygments_lexer": "ipython3",
   "version": "3.9.12"
  }
 },
 "nbformat": 4,
 "nbformat_minor": 5
}
