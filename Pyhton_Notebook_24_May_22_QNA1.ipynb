{
 "cells": [
  {
   "cell_type": "code",
   "execution_count": null,
   "id": "113717ab",
   "metadata": {},
   "outputs": [],
   "source": [
    "## Adding and deleting cells "
   ]
  },
  {
   "cell_type": "code",
   "execution_count": null,
   "id": "9c2aad9b",
   "metadata": {},
   "outputs": [],
   "source": [
    "####"
   ]
  },
  {
   "cell_type": "code",
   "execution_count": 1,
   "id": "cf2cf291",
   "metadata": {},
   "outputs": [
    {
     "data": {
      "text/plain": [
       "33.333333333333336"
      ]
     },
     "execution_count": 1,
     "metadata": {},
     "output_type": "execute_result"
    }
   ],
   "source": [
    "# Floor division \n",
    "100/3"
   ]
  },
  {
   "cell_type": "code",
   "execution_count": 2,
   "id": "b409d5b6",
   "metadata": {},
   "outputs": [
    {
     "data": {
      "text/plain": [
       "33"
      ]
     },
     "execution_count": 2,
     "metadata": {},
     "output_type": "execute_result"
    }
   ],
   "source": [
    "100//3"
   ]
  },
  {
   "cell_type": "code",
   "execution_count": 11,
   "id": "cd6176d8",
   "metadata": {},
   "outputs": [
    {
     "data": {
      "text/plain": [
       "-34"
      ]
     },
     "execution_count": 11,
     "metadata": {},
     "output_type": "execute_result"
    }
   ],
   "source": [
    "100//-3"
   ]
  },
  {
   "cell_type": "code",
   "execution_count": 7,
   "id": "730615a1",
   "metadata": {},
   "outputs": [
    {
     "data": {
      "text/plain": [
       "1.6666666666666667"
      ]
     },
     "execution_count": 7,
     "metadata": {},
     "output_type": "execute_result"
    }
   ],
   "source": [
    "5/3"
   ]
  },
  {
   "cell_type": "code",
   "execution_count": null,
   "id": "898b5109",
   "metadata": {},
   "outputs": [],
   "source": [
    "## Complex number example \n",
    "\n",
    "# Any number of the form a+bj is a complex number "
   ]
  },
  {
   "cell_type": "code",
   "execution_count": null,
   "id": "6ea2b432",
   "metadata": {},
   "outputs": [],
   "source": [
    "3+4j"
   ]
  },
  {
   "cell_type": "code",
   "execution_count": 20,
   "id": "15e89ae5",
   "metadata": {},
   "outputs": [
    {
     "name": "stdout",
     "output_type": "stream",
     "text": [
      "3.0\n",
      "4.0\n"
     ]
    }
   ],
   "source": [
    "#type(3+4j)\n",
    "\n",
    "x = 3+4j\n",
    "\n",
    "print(x.real)\n",
    "print(x.imag)"
   ]
  },
  {
   "cell_type": "code",
   "execution_count": 15,
   "id": "15ff791c",
   "metadata": {},
   "outputs": [
    {
     "data": {
      "text/plain": [
       "0.6666666666666666"
      ]
     },
     "execution_count": 15,
     "metadata": {},
     "output_type": "execute_result"
    }
   ],
   "source": [
    "2/3"
   ]
  },
  {
   "cell_type": "code",
   "execution_count": null,
   "id": "1da8f1b3",
   "metadata": {},
   "outputs": [],
   "source": [
    "## Floor and Ceiling"
   ]
  },
  {
   "cell_type": "code",
   "execution_count": 25,
   "id": "b112e28b",
   "metadata": {},
   "outputs": [
    {
     "data": {
      "text/plain": [
       "3"
      ]
     },
     "execution_count": 25,
     "metadata": {},
     "output_type": "execute_result"
    }
   ],
   "source": [
    "## Flooring - Smaller integer \n",
    "\n",
    "import math \n",
    "\n",
    "math.floor(3.66666)\n"
   ]
  },
  {
   "cell_type": "code",
   "execution_count": 26,
   "id": "ee59ce1b",
   "metadata": {},
   "outputs": [
    {
     "data": {
      "text/plain": [
       "4"
      ]
     },
     "execution_count": 26,
     "metadata": {},
     "output_type": "execute_result"
    }
   ],
   "source": [
    "## Ceiling - larger integer \n",
    "\n",
    "math.ceil(3.66666)\n"
   ]
  },
  {
   "cell_type": "code",
   "execution_count": 27,
   "id": "9e36694a",
   "metadata": {},
   "outputs": [
    {
     "data": {
      "text/plain": [
       "4"
      ]
     },
     "execution_count": 27,
     "metadata": {},
     "output_type": "execute_result"
    }
   ],
   "source": [
    "round(3.66666666)"
   ]
  },
  {
   "cell_type": "code",
   "execution_count": 28,
   "id": "d9935ed7",
   "metadata": {},
   "outputs": [
    {
     "data": {
      "text/plain": [
       "3"
      ]
     },
     "execution_count": 28,
     "metadata": {},
     "output_type": "execute_result"
    }
   ],
   "source": [
    "round(3.3333333)"
   ]
  },
  {
   "cell_type": "code",
   "execution_count": 30,
   "id": "dc666df2",
   "metadata": {},
   "outputs": [
    {
     "data": {
      "text/plain": [
       "3.667"
      ]
     },
     "execution_count": 30,
     "metadata": {},
     "output_type": "execute_result"
    }
   ],
   "source": [
    "round(3.66666666,3)"
   ]
  },
  {
   "cell_type": "code",
   "execution_count": 31,
   "id": "c30f35e3",
   "metadata": {},
   "outputs": [
    {
     "data": {
      "text/plain": [
       "True"
      ]
     },
     "execution_count": 31,
     "metadata": {},
     "output_type": "execute_result"
    }
   ],
   "source": [
    "## Comparison\n",
    "\n",
    "10 == 10"
   ]
  },
  {
   "cell_type": "code",
   "execution_count": 35,
   "id": "6695f35c",
   "metadata": {},
   "outputs": [
    {
     "ename": "SyntaxError",
     "evalue": "invalid syntax (3951611029.py, line 1)",
     "output_type": "error",
     "traceback": [
      "\u001b[1;36m  Input \u001b[1;32mIn [35]\u001b[1;36m\u001b[0m\n\u001b[1;33m    10 <> 10\u001b[0m\n\u001b[1;37m       ^\u001b[0m\n\u001b[1;31mSyntaxError\u001b[0m\u001b[1;31m:\u001b[0m invalid syntax\n"
     ]
    }
   ],
   "source": [
    "10 <> 10"
   ]
  },
  {
   "cell_type": "code",
   "execution_count": 37,
   "id": "0fb8249e",
   "metadata": {},
   "outputs": [
    {
     "data": {
      "text/plain": [
       "'A is an alphabet'"
      ]
     },
     "execution_count": 37,
     "metadata": {},
     "output_type": "execute_result"
    }
   ],
   "source": [
    "#what is character ?\n",
    "'A is an alphabet'"
   ]
  },
  {
   "cell_type": "code",
   "execution_count": 38,
   "id": "113916b6",
   "metadata": {},
   "outputs": [
    {
     "data": {
      "text/plain": [
       "str"
      ]
     },
     "execution_count": 38,
     "metadata": {},
     "output_type": "execute_result"
    }
   ],
   "source": [
    "type('A is an alphabet')"
   ]
  }
 ],
 "metadata": {
  "kernelspec": {
   "display_name": "Python 3 (ipykernel)",
   "language": "python",
   "name": "python3"
  },
  "language_info": {
   "codemirror_mode": {
    "name": "ipython",
    "version": 3
   },
   "file_extension": ".py",
   "mimetype": "text/x-python",
   "name": "python",
   "nbconvert_exporter": "python",
   "pygments_lexer": "ipython3",
   "version": "3.9.12"
  }
 },
 "nbformat": 4,
 "nbformat_minor": 5
}
