{
 "cells": [
  {
   "cell_type": "code",
   "execution_count": 3,
   "id": "2857a292",
   "metadata": {},
   "outputs": [
    {
     "name": "stdout",
     "output_type": "stream",
     "text": [
      "4\n",
      "5\n",
      "------------------\n",
      "6\n",
      "5\n"
     ]
    }
   ],
   "source": [
    "a= 4\n",
    "b= 5\n",
    "print(a)\n",
    "print(b)\n",
    "print(\"------------------\")\n",
    "\n",
    "a= 6\n",
    "print(a)\n",
    "print(b)\n"
   ]
  },
  {
   "cell_type": "code",
   "execution_count": 6,
   "id": "5d58edac",
   "metadata": {},
   "outputs": [
    {
     "name": "stdout",
     "output_type": "stream",
     "text": [
      "[1, 2, 3]\n",
      "[1, 2, 3]\n",
      "-------------\n",
      "[1, 2, 3, 4]\n",
      "[1, 2, 3, 4]\n",
      "-------------\n",
      "[1, 2, 3, 4, 5]\n",
      "[1, 2, 3, 4, 5]\n",
      "[1, 2, 3, 4]\n"
     ]
    }
   ],
   "source": [
    "x = 1\n",
    "x = [1,2,3]\n",
    "y = x\n",
    "\n",
    "print(x)\n",
    "print(y)\n",
    "print('-------------')\n",
    "\n",
    "x.append(4)\n",
    "print(x)\n",
    "print(y)\n",
    "\n",
    "print('-------------')\n",
    "z = x.copy()\n",
    "x.append(5)\n",
    "print(x)\n",
    "print(y)\n",
    "print(z)"
   ]
  },
  {
   "cell_type": "code",
   "execution_count": 8,
   "id": "2ac40682",
   "metadata": {},
   "outputs": [
    {
     "name": "stdout",
     "output_type": "stream",
     "text": [
      "20\n",
      "40\n",
      "20\n"
     ]
    }
   ],
   "source": [
    "x = 20 \n",
    "print(x)\n",
    "\n",
    "x += 20   ## x = x+20\n",
    "print(x)\n",
    "\n",
    "x -= 20\n",
    "print(x)"
   ]
  },
  {
   "cell_type": "code",
   "execution_count": 16,
   "id": "cc254d21",
   "metadata": {},
   "outputs": [
    {
     "name": "stdout",
     "output_type": "stream",
     "text": [
      "2022-06-02\n",
      "02/06/2022 18:50:14\n"
     ]
    }
   ],
   "source": [
    "from datetime import date\n",
    "from datetime import datetime\n",
    "date = date.today()\n",
    "print(date)\n",
    "\n",
    "dt = datetime.now()\n",
    "#print(dt)\n",
    "print(dt.strftime(\"%d/%m/%Y %H:%M:%S\"))"
   ]
  },
  {
   "cell_type": "code",
   "execution_count": 19,
   "id": "ba8a6701",
   "metadata": {},
   "outputs": [
    {
     "name": "stdout",
     "output_type": "stream",
     "text": [
      "[2, 5, 10, 23, 25, 32, 34, 43]\n",
      "[65, 78, 89]\n"
     ]
    }
   ],
   "source": [
    "x = [10,25,65,2,5,34,43,23,32,89,78]\n",
    "p = []\n",
    "q = []\n",
    "\n",
    "for i in list(x):\n",
    "    if (i<50):\n",
    "        p.append(i)\n",
    "    else:\n",
    "        q.append(i)\n",
    "p.sort()\n",
    "q.sort()\n",
    "    \n",
    "print(p)\n",
    "print(q)"
   ]
  },
  {
   "cell_type": "code",
   "execution_count": 27,
   "id": "b46ec3b5",
   "metadata": {},
   "outputs": [
    {
     "name": "stdout",
     "output_type": "stream",
     "text": [
      "1 1\n",
      "1 2\n",
      "1 3\n",
      "1 4\n",
      "1 5\n",
      "1 6\n",
      "1 7\n",
      "2 1\n",
      "2 2\n",
      "2 3\n",
      "2 4\n",
      "2 5\n",
      "2 6\n",
      "2 7\n",
      "3 1\n",
      "3 2\n",
      "3 3\n",
      "3 4\n",
      "3 5\n",
      "3 6\n",
      "3 7\n",
      "4 1\n",
      "4 2\n",
      "4 3\n",
      "4 4\n",
      "4 5\n",
      "4 6\n",
      "4 7\n",
      "5 1\n",
      "5 2\n",
      "5 3\n",
      "5 4\n",
      "5 5\n",
      "5 6\n",
      "5 7\n",
      "6 1\n",
      "6 2\n",
      "6 3\n",
      "6 4\n",
      "6 5\n",
      "6 6\n",
      "6 7\n",
      "7 1\n",
      "7 2\n",
      "7 3\n",
      "7 4\n",
      "7 5\n",
      "7 6\n",
      "7 7\n"
     ]
    }
   ],
   "source": [
    "A = [1,2,3,4,5,6,7]\n",
    "B = [12,23,34,45,56]\n",
    "\n",
    "for i in A: \n",
    "    for j in A:\n",
    "        print(i,j)"
   ]
  },
  {
   "cell_type": "code",
   "execution_count": 32,
   "id": "8b8e863a",
   "metadata": {},
   "outputs": [
    {
     "name": "stdout",
     "output_type": "stream",
     "text": [
      "{1, 2, 3, 4, 5, 6}\n",
      "{4, 5, 6}\n",
      "[1, 2, 3]\n"
     ]
    }
   ],
   "source": [
    "a ={1,2,3,4,5,6}\n",
    "print(a)\n",
    "b = [1,2,3]\n",
    "\n",
    "a.difference_update(b)\n",
    "\n",
    "print(a)\n",
    "print(b)"
   ]
  },
  {
   "cell_type": "code",
   "execution_count": 36,
   "id": "61b5fb6a",
   "metadata": {},
   "outputs": [
    {
     "name": "stdout",
     "output_type": "stream",
     "text": [
      "{1, 2, 4, 5}\n"
     ]
    }
   ],
   "source": [
    "a = {1,2,3,4,5}\n",
    "a.remove(3)\n",
    "print(a)"
   ]
  }
 ],
 "metadata": {
  "kernelspec": {
   "display_name": "Python 3 (ipykernel)",
   "language": "python",
   "name": "python3"
  },
  "language_info": {
   "codemirror_mode": {
    "name": "ipython",
    "version": 3
   },
   "file_extension": ".py",
   "mimetype": "text/x-python",
   "name": "python",
   "nbconvert_exporter": "python",
   "pygments_lexer": "ipython3",
   "version": "3.9.12"
  }
 },
 "nbformat": 4,
 "nbformat_minor": 5
}
