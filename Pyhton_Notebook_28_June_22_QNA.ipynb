{
 "cells": [
  {
   "cell_type": "code",
   "execution_count": 2,
   "id": "1bd0c172",
   "metadata": {},
   "outputs": [
    {
     "data": {
      "image/png": "[encoded data removed]",
      "text/plain": [
       "<Figure size 432x288 with 1 Axes>"
      ]
     },
     "metadata": {
      "needs_background": "light"
     },
     "output_type": "display_data"
    }
   ],
   "source": [
    "## Save graph \n",
    "\n",
    "import matplotlib.pyplot as plt \n",
    "\n",
    "sub = ['A','B','C','D']\n",
    "marks = [1,2,3,4]\n",
    "\n",
    "plt.bar(sub,marks)\n",
    "\n",
    "plt.savefig(\"bargraph.jpg\")"
   ]
  },
  {
   "cell_type": "code",
   "execution_count": 7,
   "id": "2871e60b",
   "metadata": {},
   "outputs": [
    {
     "name": "stdout",
     "output_type": "stream",
     "text": [
      "Enter a number12 13\n",
      "12 13\n"
     ]
    },
    {
     "data": {
      "text/plain": [
       "['12', '13']"
      ]
     },
     "execution_count": 7,
     "metadata": {},
     "output_type": "execute_result"
    }
   ],
   "source": [
    "## input from user \n",
    "\n",
    "x = input(\"Enter a number\")\n",
    "print(x)\n",
    "type(x)\n",
    "\n",
    "x.split(sep=' ')"
   ]
  },
  {
   "cell_type": "code",
   "execution_count": null,
   "id": "598b6ada",
   "metadata": {},
   "outputs": [],
   "source": [
    "12 13"
   ]
  },
  {
   "cell_type": "code",
   "execution_count": 11,
   "id": "773069d9",
   "metadata": {},
   "outputs": [
    {
     "name": "stdout",
     "output_type": "stream",
     "text": [
      "India is my country\n",
      "\n",
      "India is great\n"
     ]
    }
   ],
   "source": [
    "print(\"India is my country\")\n",
    "print(\"\\nIndia is great\")"
   ]
  }
 ],
 "metadata": {
  "kernelspec": {
   "display_name": "Python 3 (ipykernel)",
   "language": "python",
   "name": "python3"
  },
  "language_info": {
   "codemirror_mode": {
    "name": "ipython",
    "version": 3
   },
   "file_extension": ".py",
   "mimetype": "text/x-python",
   "name": "python",
   "nbconvert_exporter": "python",
   "pygments_lexer": "ipython3",
   "version": "3.9.12"
  }
 },
 "nbformat": 4,
 "nbformat_minor": 5
}
