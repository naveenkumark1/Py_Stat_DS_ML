{
 "cells": [
  {
   "cell_type": "code",
   "execution_count": 4,
   "id": "7afbb0a7",
   "metadata": {},
   "outputs": [
    {
     "name": "stdout",
     "output_type": "stream",
     "text": [
      "[1, 2, 3, 4, 5, 6, 7, 8, 9]\n",
      "[1, 2, 3, 4, 5, 6, 7, 8]\n",
      "[1, 2, 3, 5, 6, 7, 8]\n",
      "[1, 2, 3, 5, 7, 8]\n"
     ]
    }
   ],
   "source": [
    "## Pop \n",
    "\n",
    "## pop () - By default pop removes the last element, by giving a index of a single value we can \n",
    "# remove other elements too, Multiple elements cannot be removed\n",
    "\n",
    "ls = [1,2,3,4,5,6,7,8,9]\n",
    "\n",
    "print(ls)\n",
    "\n",
    "ls.pop()\n",
    "print(ls)\n",
    "\n",
    "ls.pop(3)\n",
    "print(ls)\n",
    "\n",
    "ls.pop(-3)\n",
    "print(ls)"
   ]
  },
  {
   "cell_type": "code",
   "execution_count": 5,
   "id": "4a0ff61b",
   "metadata": {},
   "outputs": [
    {
     "data": {
      "text/plain": [
       "[10, 20, 60]"
      ]
     },
     "execution_count": 5,
     "metadata": {},
     "output_type": "execute_result"
    }
   ],
   "source": [
    "ls = [10,20,30,40,50,60]\n",
    "del ls[2:5]\n",
    "\n",
    "ls\n"
   ]
  },
  {
   "cell_type": "code",
   "execution_count": 15,
   "id": "a9380bd2",
   "metadata": {},
   "outputs": [],
   "source": [
    "import numpy as np\n",
    "import pandas as pd \n",
    "import matplotlib as plt"
   ]
  },
  {
   "cell_type": "code",
   "execution_count": 9,
   "id": "5f755c6d",
   "metadata": {},
   "outputs": [
    {
     "data": {
      "text/plain": [
       "array([1, 2, 3, 4, 5])"
      ]
     },
     "execution_count": 9,
     "metadata": {},
     "output_type": "execute_result"
    }
   ],
   "source": [
    "np.array([1,2,3,4,5])"
   ]
  },
  {
   "cell_type": "code",
   "execution_count": 31,
   "id": "5a129e66",
   "metadata": {},
   "outputs": [
    {
     "name": "stdout",
     "output_type": "stream",
     "text": [
      "2145062669424\n",
      "Aus is a county\n",
      "India is a county\n"
     ]
    }
   ],
   "source": [
    "a = \"INDIA\"\n",
    "print(id(a))\n",
    "#a[0] = \"1I\"\n",
    "\n",
    "x = \"India is a county\"\n",
    "print(x.replace(\"India\",\"Aus\"))\n",
    "print(x)"
   ]
  },
  {
   "cell_type": "code",
   "execution_count": 33,
   "id": "1976f69b",
   "metadata": {},
   "outputs": [
    {
     "name": "stdout",
     "output_type": "stream",
     "text": [
      "2145062669424\n"
     ]
    },
    {
     "data": {
      "text/plain": [
       "'INDIA'"
      ]
     },
     "execution_count": 33,
     "metadata": {},
     "output_type": "execute_result"
    }
   ],
   "source": [
    "a.replace(\"I\",'A')\n",
    "print(id(a))\n",
    "a"
   ]
  },
  {
   "cell_type": "code",
   "execution_count": 89,
   "id": "a2c07430",
   "metadata": {},
   "outputs": [
    {
     "name": "stdout",
     "output_type": "stream",
     "text": [
      "2145062669424\n",
      "INDIA\n"
     ]
    },
    {
     "ename": "TypeError",
     "evalue": "'str' object does not support item assignment",
     "output_type": "error",
     "traceback": [
      "\u001b[1;31m---------------------------------------------------------------------------\u001b[0m",
      "\u001b[1;31mTypeError\u001b[0m                                 Traceback (most recent call last)",
      "Input \u001b[1;32mIn [89]\u001b[0m, in \u001b[0;36m<cell line: 5>\u001b[1;34m()\u001b[0m\n\u001b[0;32m      2\u001b[0m \u001b[38;5;28mprint\u001b[39m(\u001b[38;5;28mid\u001b[39m(a))\n\u001b[0;32m      3\u001b[0m \u001b[38;5;28mprint\u001b[39m(a)\n\u001b[1;32m----> 5\u001b[0m a[\u001b[38;5;241m0\u001b[39m] \u001b[38;5;241m=\u001b[39m \u001b[38;5;124m\"\u001b[39m\u001b[38;5;124mA\u001b[39m\u001b[38;5;124m\"\u001b[39m  \u001b[38;5;66;03m## Imutability \u001b[39;00m\n\u001b[0;32m      7\u001b[0m a \u001b[38;5;241m=\u001b[39m a\u001b[38;5;241m.\u001b[39mreplace(\u001b[38;5;124m\"\u001b[39m\u001b[38;5;124mI\u001b[39m\u001b[38;5;124m\"\u001b[39m,\u001b[38;5;124m\"\u001b[39m\u001b[38;5;124mA\u001b[39m\u001b[38;5;124m\"\u001b[39m)\n\u001b[0;32m      8\u001b[0m \u001b[38;5;28mprint\u001b[39m(\u001b[38;5;28mid\u001b[39m(a))\n",
      "\u001b[1;31mTypeError\u001b[0m: 'str' object does not support item assignment"
     ]
    }
   ],
   "source": [
    "a = \"INDIA\"\n",
    "print(id(a))\n",
    "print(a)\n",
    "\n",
    "a[0] = \"A\"  ## Imutability \n",
    "\n",
    "a = a.replace(\"I\",\"A\")\n",
    "print(id(a))\n",
    "print(a)\n"
   ]
  },
  {
   "cell_type": "code",
   "execution_count": 93,
   "id": "4a31c7e8",
   "metadata": {},
   "outputs": [
    {
     "name": "stdout",
     "output_type": "stream",
     "text": [
      "List is empty\n"
     ]
    }
   ],
   "source": [
    "ls = []\n",
    "\n",
    "if ls: \n",
    "    print(\"List has elements\")\n",
    "else:\n",
    "    print(\"List is empty\")"
   ]
  },
  {
   "cell_type": "code",
   "execution_count": 95,
   "id": "1eb30f07",
   "metadata": {},
   "outputs": [
    {
     "ename": "SyntaxError",
     "evalue": "cannot assign to function call (1760025945.py, line 1)",
     "output_type": "error",
     "traceback": [
      "\u001b[1;36m  Input \u001b[1;32mIn [95]\u001b[1;36m\u001b[0m\n\u001b[1;33m    int(c) = 10.2222\u001b[0m\n\u001b[1;37m    ^\u001b[0m\n\u001b[1;31mSyntaxError\u001b[0m\u001b[1;31m:\u001b[0m cannot assign to function call\n"
     ]
    }
   ],
   "source": [
    "## Variable type in C language \n",
    "int c = 10.2222\n",
    "print(c)"
   ]
  },
  {
   "cell_type": "code",
   "execution_count": 97,
   "id": "13ed102e",
   "metadata": {},
   "outputs": [
    {
     "name": "stdout",
     "output_type": "stream",
     "text": [
      "<class 'int'>\n",
      "2144921348400\n",
      "<class 'float'>\n",
      "2145063973520\n",
      "<class 'str'>\n",
      "2145062669424\n"
     ]
    }
   ],
   "source": [
    "## Varibles are dynamically typed \n",
    "\n",
    "a = 1\n",
    "print(type(a))\n",
    "print(id(a))\n",
    "\n",
    "a = 1.230000\n",
    "print(type(a))\n",
    "print(id(a))\n",
    "\n",
    "a = \"INDIA\"\n",
    "print(type(a))\n",
    "print(id(a))"
   ]
  },
  {
   "cell_type": "code",
   "execution_count": 102,
   "id": "e8a43e42",
   "metadata": {},
   "outputs": [
    {
     "name": "stdout",
     "output_type": "stream",
     "text": [
      "2145063880304\n",
      "2145063880304\n"
     ]
    }
   ],
   "source": [
    "a = \"Indian\"\n",
    "print(id(a))\n",
    "del(a)\n",
    "#print(a)\n",
    "\n",
    "b = \"Indian\"\n",
    "print(id(b))\n"
   ]
  }
 ],
 "metadata": {
  "kernelspec": {
   "display_name": "Python 3 (ipykernel)",
   "language": "python",
   "name": "python3"
  },
  "language_info": {
   "codemirror_mode": {
    "name": "ipython",
    "version": 3
   },
   "file_extension": ".py",
   "mimetype": "text/x-python",
   "name": "python",
   "nbconvert_exporter": "python",
   "pygments_lexer": "ipython3",
   "version": "3.9.12"
  }
 },
 "nbformat": 4,
 "nbformat_minor": 5
}
