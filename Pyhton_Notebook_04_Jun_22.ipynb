{
 "cells": [
  {
   "cell_type": "code",
   "execution_count": 2,
   "id": "851fca69",
   "metadata": {},
   "outputs": [
    {
     "name": "stdout",
     "output_type": "stream",
     "text": [
      "10\n",
      "20\n",
      "30\n",
      "40\n",
      "50\n"
     ]
    }
   ],
   "source": [
    "## For loop  : It is used to iterate through the given object \n",
    "\n",
    "ls = [10,20,30,40,50]\n",
    "\n",
    "\n",
    "for i in ls:\n",
    "    print(i)"
   ]
  },
  {
   "cell_type": "code",
   "execution_count": 3,
   "id": "88a3c3a2",
   "metadata": {},
   "outputs": [
    {
     "name": "stdout",
     "output_type": "stream",
     "text": [
      "2\n",
      "4\n",
      "6\n",
      "8\n",
      "10\n",
      "12\n",
      "14\n",
      "16\n",
      "18\n",
      "20\n"
     ]
    }
   ],
   "source": [
    "# Tables of 2 in python \n",
    "\n",
    "ls = [1,2,3,4,5,6,7,8,9,10]\n",
    "\n",
    "for i in ls:\n",
    "    print(i*2)"
   ]
  },
  {
   "cell_type": "code",
   "execution_count": 4,
   "id": "00a59f43",
   "metadata": {},
   "outputs": [
    {
     "name": "stdout",
     "output_type": "stream",
     "text": [
      "9\n",
      "18\n",
      "27\n",
      "36\n",
      "45\n",
      "54\n",
      "63\n",
      "72\n",
      "81\n",
      "90\n"
     ]
    }
   ],
   "source": [
    "## Generate table of 9 \n",
    "ls = [1,2,3,4,5,6,7,8,9,10]\n",
    "\n",
    "for i in ls:\n",
    "    print(i*9)"
   ]
  },
  {
   "cell_type": "code",
   "execution_count": 5,
   "id": "2e85b5a5",
   "metadata": {},
   "outputs": [
    {
     "name": "stdout",
     "output_type": "stream",
     "text": [
      "2\n",
      "4\n",
      "6\n",
      "8\n",
      "10\n"
     ]
    }
   ],
   "source": [
    "## Combination of IF & FOR \n",
    "\n",
    "## Print the even numbers in the list \n",
    "\n",
    "ls = [1,2,3,4,5,6,7,8,9,10]\n",
    "\n",
    "for i in ls: \n",
    "    if i%2 == 0:\n",
    "        print(i)"
   ]
  },
  {
   "cell_type": "code",
   "execution_count": 2,
   "id": "5dfbd624",
   "metadata": {},
   "outputs": [
    {
     "name": "stdout",
     "output_type": "stream",
     "text": [
      "1\n",
      "2\n",
      "3\n",
      "4\n",
      "5\n",
      "6\n",
      "7\n",
      "8\n",
      "9\n"
     ]
    }
   ],
   "source": [
    "## While loop : The loop keeps on executing as long as the given condition is TRUE \n",
    "\n",
    "a = 1\n",
    "\n",
    "while a<10:\n",
    "    print(a)\n",
    "    a += 1"
   ]
  },
  {
   "cell_type": "code",
   "execution_count": 3,
   "id": "a85c19ad",
   "metadata": {},
   "outputs": [
    {
     "name": "stdout",
     "output_type": "stream",
     "text": [
      "0\n",
      "1\n",
      "2\n",
      "3\n",
      "4\n",
      "5\n",
      "6\n",
      "7\n",
      "8\n",
      "9\n",
      "10\n",
      "11\n",
      "12\n",
      "13\n",
      "14\n",
      "15\n"
     ]
    }
   ],
   "source": [
    "# Run a loop till the varibale a = 0 is 15\n",
    "\n",
    "a = 0\n",
    "while a <= 15:\n",
    "    print(a)\n",
    "    a += 1"
   ]
  },
  {
   "cell_type": "code",
   "execution_count": 5,
   "id": "f0443768",
   "metadata": {},
   "outputs": [
    {
     "name": "stdout",
     "output_type": "stream",
     "text": [
      "1\n",
      "2\n",
      "3\n",
      "4\n"
     ]
    }
   ],
   "source": [
    "## Control statements : break, continue & pass \n",
    "\n",
    "## Break : Inturrupt the execution and come out of the loop \n",
    "\n",
    "ls = [1,2,3,4,5,6,7,8,9]\n",
    "\n",
    "for i in ls:\n",
    "    print(i)\n",
    "    if i == 4:\n",
    "        break\n",
    "        \n",
    "        "
   ]
  },
  {
   "cell_type": "code",
   "execution_count": 8,
   "id": "80c0be07",
   "metadata": {},
   "outputs": [
    {
     "name": "stdout",
     "output_type": "stream",
     "text": [
      "1\n",
      "3\n",
      "5\n",
      "7\n",
      "9\n",
      "11\n",
      "12\n"
     ]
    }
   ],
   "source": [
    "## Break at an even number \n",
    "\n",
    "ls = [1,3,5,7,9,11,12,13,15,17,19]\n",
    "\n",
    "for i in ls:\n",
    "    print(i)\n",
    "    if i%2==0:\n",
    "        break"
   ]
  },
  {
   "cell_type": "code",
   "execution_count": 12,
   "id": "5de60bfc",
   "metadata": {},
   "outputs": [
    {
     "name": "stdout",
     "output_type": "stream",
     "text": [
      "1\n",
      "2\n",
      "3\n",
      "4\n",
      "4\n",
      "5\n",
      "6\n",
      "7\n",
      "8\n",
      "9\n"
     ]
    }
   ],
   "source": [
    "## Continue :  Stops the current iteration of the loop and continues with next iteration\n",
    "\n",
    "ls = [1,2,3,4,5,6,7,8,9]\n",
    "\n",
    "for i in ls:\n",
    "    print(i)\n",
    "    if i == 4:\n",
    "        print(i)\n",
    "        continue\n",
    "        print(\"Loop executed fully\")"
   ]
  },
  {
   "cell_type": "code",
   "execution_count": 11,
   "id": "ac34e480",
   "metadata": {},
   "outputs": [
    {
     "name": "stdout",
     "output_type": "stream",
     "text": [
      "1\n",
      "2\n",
      "3\n",
      "5\n",
      "6\n",
      "7\n",
      "8\n",
      "9\n",
      "10\n"
     ]
    }
   ],
   "source": [
    "a = 0 \n",
    "\n",
    "while a < 10:\n",
    "    a+=1\n",
    "    if a == 4:\n",
    "        continue\n",
    "    print(a)"
   ]
  },
  {
   "cell_type": "code",
   "execution_count": 1,
   "id": "60a1ea2f",
   "metadata": {},
   "outputs": [
    {
     "name": "stdout",
     "output_type": "stream",
     "text": [
      "1\n",
      "2\n",
      "3\n",
      "4\n",
      "5\n",
      "6\n",
      "7\n",
      "8\n",
      "9\n"
     ]
    }
   ],
   "source": [
    "## While loop : The loop keeps on executing as long as the given condition is TRUE\n",
    "\n",
    "a = 1\n",
    "\n",
    "while a < 10:\n",
    "    print(a)\n",
    "    a = a+1"
   ]
  },
  {
   "cell_type": "code",
   "execution_count": 15,
   "id": "a4c3a858",
   "metadata": {},
   "outputs": [
    {
     "name": "stdout",
     "output_type": "stream",
     "text": [
      "2\n",
      "4\n",
      "6\n",
      "8\n",
      "12\n",
      "14\n",
      "16\n",
      "18\n",
      "20\n"
     ]
    }
   ],
   "source": [
    "## Continue the tables of 2 without 10\n",
    "\n",
    "ls = [1,2,3,4,5,6,7,8,9,10]\n",
    "\n",
    "for i in ls:\n",
    "    if i*2 == 10:\n",
    "        continue\n",
    "    print(i*2)"
   ]
  },
  {
   "cell_type": "code",
   "execution_count": 21,
   "id": "52e13389",
   "metadata": {},
   "outputs": [],
   "source": [
    "## pass : it will just let the iterator to pass\n",
    "\n",
    "ls = [1,2,3,4,5,6,7]\n",
    "\n",
    "for i in ls:\n",
    "    pass"
   ]
  },
  {
   "cell_type": "code",
   "execution_count": 25,
   "id": "c21e006f",
   "metadata": {},
   "outputs": [
    {
     "name": "stdout",
     "output_type": "stream",
     "text": [
      "1\n",
      "2\n",
      "3\n",
      "4\n",
      "5\n",
      "6\n",
      "7\n"
     ]
    }
   ],
   "source": [
    "ls = [1,2,3,4,5,6,7]\n",
    "\n",
    "for i in ls:\n",
    "    if i == 4:\n",
    "        pass\n",
    "        #print(' This is a passed block')\n",
    "    print(i)"
   ]
  },
  {
   "cell_type": "code",
   "execution_count": 26,
   "id": "c933e0d8",
   "metadata": {},
   "outputs": [],
   "source": [
    "## Functions : Functions are set of reusable codes \n",
    "\n",
    "## Function to print a welcome message \n",
    "\n",
    "def welcome():\n",
    "    print(\" Hi, Welcome to the Python Session !!\")"
   ]
  },
  {
   "cell_type": "code",
   "execution_count": 34,
   "id": "2f5d93e9",
   "metadata": {},
   "outputs": [
    {
     "name": "stdout",
     "output_type": "stream",
     "text": [
      " Hi, Welcome to the Python Session !!\n"
     ]
    }
   ],
   "source": [
    "welcome()"
   ]
  },
  {
   "cell_type": "code",
   "execution_count": 1,
   "id": "21d525a7",
   "metadata": {},
   "outputs": [],
   "source": [
    "## Function to create the tables of a given number \n",
    "\n",
    "def tabl(a):\n",
    "    i = 1\n",
    "    while i <= 10:\n",
    "        print(i*a)\n",
    "        i += 1"
   ]
  },
  {
   "cell_type": "code",
   "execution_count": 4,
   "id": "f144fbec",
   "metadata": {},
   "outputs": [
    {
     "name": "stdout",
     "output_type": "stream",
     "text": [
      "9\n",
      "18\n",
      "27\n",
      "36\n",
      "45\n",
      "54\n",
      "63\n",
      "72\n",
      "81\n",
      "90\n"
     ]
    }
   ],
   "source": [
    "tabl(9)"
   ]
  },
  {
   "cell_type": "code",
   "execution_count": 5,
   "id": "25bbaae6",
   "metadata": {},
   "outputs": [],
   "source": [
    "## Create a function to add 2 numbers \n",
    "\n",
    "def sumnum(a,b):\n",
    "    print(a+b)"
   ]
  },
  {
   "cell_type": "code",
   "execution_count": 6,
   "id": "1237d9f2",
   "metadata": {},
   "outputs": [
    {
     "name": "stdout",
     "output_type": "stream",
     "text": [
      "30\n"
     ]
    }
   ],
   "source": [
    "sumnum(10,20)"
   ]
  },
  {
   "cell_type": "code",
   "execution_count": 9,
   "id": "7d66e734",
   "metadata": {},
   "outputs": [
    {
     "name": "stdout",
     "output_type": "stream",
     "text": [
      "Type the input12345\n",
      "12345\n"
     ]
    },
    {
     "data": {
      "text/plain": [
       "str"
      ]
     },
     "execution_count": 9,
     "metadata": {},
     "output_type": "execute_result"
    }
   ],
   "source": [
    "## Default input is a string \n",
    "\n",
    "a = input(\"Type the input\")\n",
    "print(a)\n",
    "type(a)"
   ]
  },
  {
   "cell_type": "code",
   "execution_count": null,
   "id": "eaf15a09",
   "metadata": {},
   "outputs": [],
   "source": [
    "## Simple calculator using python \n",
    "\n",
    "## take input of 2 numbers from user \n",
    "## take input of operation from user (add, subt, mult, divi)\n",
    "## give the output"
   ]
  },
  {
   "cell_type": "code",
   "execution_count": 24,
   "id": "e53bf8a4",
   "metadata": {},
   "outputs": [
    {
     "name": "stdout",
     "output_type": "stream",
     "text": [
      "range(0, 20)\n",
      "[0, 2, 4, 6, 8, 10, 12, 14, 16, 18]\n"
     ]
    }
   ],
   "source": [
    "## range funtion in python : Create a sequence of numbers\n",
    "\n",
    "## Syntax \n",
    "\n",
    "# range(start, stop, step)\n",
    "\n",
    "#start defaut = 0\n",
    "#stop is mandatory \n",
    "#step is optional : default is 1\n",
    "\n",
    "a = range(0,20,1)\n",
    "print(a)\n",
    "\n",
    "a = list(range(0,20,1))\n",
    "print(a)"
   ]
  },
  {
   "cell_type": "code",
   "execution_count": 26,
   "id": "f3171ce9",
   "metadata": {},
   "outputs": [
    {
     "name": "stdout",
     "output_type": "stream",
     "text": [
      "15\n"
     ]
    },
    {
     "data": {
      "text/plain": [
       "function"
      ]
     },
     "execution_count": 26,
     "metadata": {},
     "output_type": "execute_result"
    }
   ],
   "source": [
    "## Lambda function : Function without name ( anonymous )\n",
    "## it can take any number of arguments\n",
    "\n",
    "#Syntax : \n",
    "\n",
    "# lambda arguments : expresssion \n",
    "\n",
    "x = lambda a : a+12\n",
    "\n",
    "print(x(3))\n",
    "\n",
    "type(x)\n",
    "\n"
   ]
  },
  {
   "cell_type": "code",
   "execution_count": 27,
   "id": "a7431032",
   "metadata": {},
   "outputs": [
    {
     "name": "stdout",
     "output_type": "stream",
     "text": [
      "10\n"
     ]
    }
   ],
   "source": [
    "## using lambda add 4 numbers \n",
    "\n",
    "x = lambda a,b,c,d : a+b+c+d\n",
    "\n",
    "print(x(1,2,3,4))"
   ]
  },
  {
   "cell_type": "code",
   "execution_count": 2,
   "id": "6ec6a9b8",
   "metadata": {},
   "outputs": [],
   "source": [
    "def tabl(a):\n",
    "    i = 1\n",
    "    while i<10:\n",
    "        print(i*a)\n",
    "        i+=1"
   ]
  },
  {
   "cell_type": "code",
   "execution_count": 3,
   "id": "7d64c3d0",
   "metadata": {},
   "outputs": [
    {
     "name": "stdout",
     "output_type": "stream",
     "text": [
      "2\n",
      "4\n",
      "6\n",
      "8\n",
      "10\n",
      "12\n",
      "14\n",
      "16\n",
      "18\n"
     ]
    }
   ],
   "source": [
    "tabl(2)"
   ]
  },
  {
   "cell_type": "code",
   "execution_count": null,
   "id": "3f0d917d",
   "metadata": {},
   "outputs": [],
   "source": []
  }
 ],
 "metadata": {
  "kernelspec": {
   "display_name": "Python 3 (ipykernel)",
   "language": "python",
   "name": "python3"
  },
  "language_info": {
   "codemirror_mode": {
    "name": "ipython",
    "version": 3
   },
   "file_extension": ".py",
   "mimetype": "text/x-python",
   "name": "python",
   "nbconvert_exporter": "python",
   "pygments_lexer": "ipython3",
   "version": "3.9.12"
  }
 },
 "nbformat": 4,
 "nbformat_minor": 5
}
