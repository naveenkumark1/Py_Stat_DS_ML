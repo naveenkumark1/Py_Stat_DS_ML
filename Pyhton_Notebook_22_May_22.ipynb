{
 "cells": [
  {
   "cell_type": "code",
   "execution_count": null,
   "id": "4ad86af6",
   "metadata": {},
   "outputs": [],
   "source": [
    "## Keywords : The words that have a speacial meaning in programming\n",
    "\n",
    "## try, False, True, class, break, continue, and, as, assert, while, for, in, raise, except, or, not, if, elif, print, import,"
   ]
  },
  {
   "cell_type": "code",
   "execution_count": 3,
   "id": "59a44177",
   "metadata": {},
   "outputs": [
    {
     "ename": "SyntaxError",
     "evalue": "cannot assign to True (2227483689.py, line 1)",
     "output_type": "error",
     "traceback": [
      "\u001b[1;36m  Input \u001b[1;32mIn [3]\u001b[1;36m\u001b[0m\n\u001b[1;33m    True = 10\u001b[0m\n\u001b[1;37m    ^\u001b[0m\n\u001b[1;31mSyntaxError\u001b[0m\u001b[1;31m:\u001b[0m cannot assign to True\n"
     ]
    }
   ],
   "source": [
    "True = 10"
   ]
  },
  {
   "cell_type": "code",
   "execution_count": 2,
   "id": "e5e5026e",
   "metadata": {},
   "outputs": [
    {
     "data": {
      "text/plain": [
       "10"
      ]
     },
     "execution_count": 2,
     "metadata": {},
     "output_type": "execute_result"
    }
   ],
   "source": [
    "A"
   ]
  },
  {
   "cell_type": "code",
   "execution_count": null,
   "id": "dd7743b5",
   "metadata": {},
   "outputs": [],
   "source": [
    "## Literal : String, character, number {int, float, complex}, Special"
   ]
  },
  {
   "cell_type": "code",
   "execution_count": null,
   "id": "5a3c000f",
   "metadata": {},
   "outputs": [],
   "source": [
    "# String - Collection of characters within quotations\n",
    "'I am an Indian'"
   ]
  },
  {
   "cell_type": "code",
   "execution_count": 8,
   "id": "fa9376d1",
   "metadata": {},
   "outputs": [
    {
     "data": {
      "text/plain": [
       "str"
      ]
     },
     "execution_count": 8,
     "metadata": {},
     "output_type": "execute_result"
    }
   ],
   "source": [
    "type('I am an Indian')"
   ]
  },
  {
   "cell_type": "code",
   "execution_count": null,
   "id": "640b4cf2",
   "metadata": {},
   "outputs": [],
   "source": [
    "# Numbers - Numerical values "
   ]
  },
  {
   "cell_type": "code",
   "execution_count": 9,
   "id": "b6b28245",
   "metadata": {},
   "outputs": [
    {
     "data": {
      "text/plain": [
       "1"
      ]
     },
     "execution_count": 9,
     "metadata": {},
     "output_type": "execute_result"
    }
   ],
   "source": [
    "## Integer\n",
    "1"
   ]
  },
  {
   "cell_type": "code",
   "execution_count": 10,
   "id": "af05ac2a",
   "metadata": {},
   "outputs": [
    {
     "data": {
      "text/plain": [
       "int"
      ]
     },
     "execution_count": 10,
     "metadata": {},
     "output_type": "execute_result"
    }
   ],
   "source": [
    "type(1)"
   ]
  },
  {
   "cell_type": "code",
   "execution_count": 11,
   "id": "7527a333",
   "metadata": {},
   "outputs": [
    {
     "data": {
      "text/plain": [
       "1.123"
      ]
     },
     "execution_count": 11,
     "metadata": {},
     "output_type": "execute_result"
    }
   ],
   "source": [
    "## Float\n",
    "1.123"
   ]
  },
  {
   "cell_type": "code",
   "execution_count": 12,
   "id": "c8477043",
   "metadata": {},
   "outputs": [
    {
     "data": {
      "text/plain": [
       "float"
      ]
     },
     "execution_count": 12,
     "metadata": {},
     "output_type": "execute_result"
    }
   ],
   "source": [
    "type(1.234)"
   ]
  },
  {
   "cell_type": "code",
   "execution_count": 19,
   "id": "07039f0c",
   "metadata": {},
   "outputs": [
    {
     "data": {
      "text/plain": [
       "(1+2j)"
      ]
     },
     "execution_count": 19,
     "metadata": {},
     "output_type": "execute_result"
    }
   ],
   "source": [
    "## Complex : Numbers in the form a+bj\n",
    "\n",
    "1+2j"
   ]
  },
  {
   "cell_type": "code",
   "execution_count": 17,
   "id": "ad9ffcd1",
   "metadata": {},
   "outputs": [
    {
     "data": {
      "text/plain": [
       "complex"
      ]
     },
     "execution_count": 17,
     "metadata": {},
     "output_type": "execute_result"
    }
   ],
   "source": [
    "type(1+2j)"
   ]
  },
  {
   "cell_type": "code",
   "execution_count": null,
   "id": "f6a1c77f",
   "metadata": {},
   "outputs": [],
   "source": [
    "# Special \n",
    "!\n",
    "@\n",
    "#\n",
    "$\n",
    "%\n",
    "^\n",
    "&\n",
    "*\n",
    "()\n",
    "{}\n",
    "''\n",
    "\"\"\n",
    "-\n",
    "_\n",
    "+\n",
    "=\n",
    "\n",
    "NA\n",
    "NULL \n"
   ]
  },
  {
   "cell_type": "code",
   "execution_count": 23,
   "id": "723d74e1",
   "metadata": {},
   "outputs": [
    {
     "data": {
      "text/plain": [
       "False"
      ]
     },
     "execution_count": 23,
     "metadata": {},
     "output_type": "execute_result"
    }
   ],
   "source": [
    "## Python is case sensitive\n",
    "'a' == 'A'"
   ]
  },
  {
   "cell_type": "code",
   "execution_count": 37,
   "id": "ecbcc4f6",
   "metadata": {},
   "outputs": [],
   "source": [
    "## Identifiers \n",
    "\n",
    "_N123ame = 10 # Working \n"
   ]
  },
  {
   "cell_type": "code",
   "execution_count": 35,
   "id": "941ccc2d",
   "metadata": {},
   "outputs": [
    {
     "data": {
      "text/plain": [
       "10"
      ]
     },
     "execution_count": 35,
     "metadata": {},
     "output_type": "execute_result"
    }
   ],
   "source": [
    "_N123ame"
   ]
  },
  {
   "cell_type": "code",
   "execution_count": null,
   "id": "fb68caf3",
   "metadata": {},
   "outputs": [],
   "source": [
    "#●\tOperators ( w3 ) \n",
    "\n",
    "#●\tArithmetic operators\n",
    "#●\tAssignment operators\n",
    "#●\tComparison operators\n",
    "#●\tLogical operators ( and or not )\n",
    "#●\tIdentity operators ( is , isnot )\n",
    "#●\tMembership operators ( in notin )\n",
    "#●\tBitwise operators ( & | ~ etc )\n"
   ]
  },
  {
   "cell_type": "code",
   "execution_count": 41,
   "id": "9f5d2c08",
   "metadata": {},
   "outputs": [
    {
     "name": "stdout",
     "output_type": "stream",
     "text": [
      "3\n",
      "-1\n",
      "12\n",
      "1.2\n",
      "1\n",
      "8\n",
      "33\n"
     ]
    }
   ],
   "source": [
    "# Arithmetic operators\n",
    "print(1 + 2)\n",
    "print(2 - 3)\n",
    "print(3 * 4)\n",
    "print(6 / 5) #- division gives the quotient \n",
    "print(7 % 3)  #- modulus gives the reminder \n",
    "print(2 ** 3)\n",
    "print(100 // 3)"
   ]
  },
  {
   "cell_type": "code",
   "execution_count": 45,
   "id": "91bc25d6",
   "metadata": {},
   "outputs": [
    {
     "data": {
      "text/plain": [
       "0"
      ]
     },
     "execution_count": 45,
     "metadata": {},
     "output_type": "execute_result"
    }
   ],
   "source": [
    "(1+2-3)*4"
   ]
  },
  {
   "cell_type": "code",
   "execution_count": null,
   "id": "2261042d",
   "metadata": {},
   "outputs": [],
   "source": [
    "## Operator presidence \n",
    "BODMAS : Bracket, Order, Division, Multiplication, Addition, Subtaction \n",
    "PEMDAS : Parenthesis, Exponent, Multiply, Divide, Add, Substact "
   ]
  },
  {
   "cell_type": "code",
   "execution_count": 47,
   "id": "2a878b58",
   "metadata": {},
   "outputs": [
    {
     "data": {
      "text/plain": [
       "3.5"
      ]
     },
     "execution_count": 47,
     "metadata": {},
     "output_type": "execute_result"
    }
   ],
   "source": [
    "(2*7/4)"
   ]
  },
  {
   "cell_type": "code",
   "execution_count": 49,
   "id": "28231c97",
   "metadata": {},
   "outputs": [],
   "source": [
    "## Variables \n",
    "\n",
    "A = 10\n",
    "\n",
    "A,B,C = 10,20,30"
   ]
  },
  {
   "cell_type": "code",
   "execution_count": 50,
   "id": "581153b2",
   "metadata": {},
   "outputs": [
    {
     "name": "stdout",
     "output_type": "stream",
     "text": [
      "10\n",
      "20\n",
      "30\n"
     ]
    }
   ],
   "source": [
    "print(A)\n",
    "print(B)\n",
    "print(C)"
   ]
  },
  {
   "cell_type": "code",
   "execution_count": 59,
   "id": "a8bb7c02",
   "metadata": {},
   "outputs": [
    {
     "name": "stdout",
     "output_type": "stream",
     "text": [
      "10\n",
      "20\n",
      "10\n",
      "100\n",
      "10.0\n",
      "0.0\n",
      "1\n",
      "0\n",
      "10\n",
      "0\n",
      "0\n",
      "0\n"
     ]
    }
   ],
   "source": [
    "# Assignment operators \n",
    "\n",
    "x = 10\n",
    "print(x)\n",
    "\n",
    "x += 10  # x = x + 10\n",
    "print(x)\n",
    "\n",
    "x -= 10  # x = x - 10\n",
    "print(x)\n",
    "\n",
    "x *= 10  # x = X * 10\n",
    "print(x)\n",
    "\n",
    "x /= 10  # x = X + 10\n",
    "print(x)\n",
    "\n",
    "x %= 10  # x = X + 10\n",
    "print(x)\n",
    "\n",
    "x = 10\n",
    "x //= 10  # x = X + 10\n",
    "print(x)\n",
    "\n",
    "## Refer logical gates for the below\n",
    "\n",
    "x &= 10  # x = X & 10\n",
    "print(x)\n",
    "\n",
    "x |= 10  # x = X | 10\n",
    "print(x)\n",
    "\n",
    "x ^= 10  # x = X ^ 10\n",
    "print(x)\n",
    "\n",
    "x >>= 10  # x = X >> 10\n",
    "print(x)\n",
    "\n",
    "x <<= 10  # x = X << 10\n",
    "print(x)"
   ]
  },
  {
   "cell_type": "code",
   "execution_count": 63,
   "id": "8a032181",
   "metadata": {},
   "outputs": [
    {
     "name": "stdout",
     "output_type": "stream",
     "text": [
      "True\n",
      "False\n",
      "False\n",
      "False\n",
      "True\n",
      "True\n"
     ]
    }
   ],
   "source": [
    "## Comparison operator \n",
    "\n",
    "print(10 == 10)  # Equal to \n",
    "print(10 != 10)  # Not equal to \n",
    "print(10 > 10)   # Greater than\n",
    "print(10 < 10)   # Lesser than \n",
    "print(10 >= 10)\n",
    "print(10 <= 10)"
   ]
  },
  {
   "cell_type": "code",
   "execution_count": null,
   "id": "a0a689ee",
   "metadata": {},
   "outputs": [],
   "source": [
    "# Logical operators : used to compare conditions "
   ]
  },
  {
   "cell_type": "code",
   "execution_count": 72,
   "id": "5fc44c3a",
   "metadata": {},
   "outputs": [
    {
     "data": {
      "text/plain": [
       "True"
      ]
     },
     "execution_count": 72,
     "metadata": {},
     "output_type": "execute_result"
    }
   ],
   "source": [
    "(2 < 5) and (20 > 15)"
   ]
  },
  {
   "cell_type": "code",
   "execution_count": 73,
   "id": "076f3061",
   "metadata": {},
   "outputs": [
    {
     "data": {
      "text/plain": [
       "True"
      ]
     },
     "execution_count": 73,
     "metadata": {},
     "output_type": "execute_result"
    }
   ],
   "source": [
    "(2 < 5) or (20 > 15)"
   ]
  },
  {
   "cell_type": "code",
   "execution_count": 74,
   "id": "cb0eeffd",
   "metadata": {},
   "outputs": [
    {
     "data": {
      "text/plain": [
       "False"
      ]
     },
     "execution_count": 74,
     "metadata": {},
     "output_type": "execute_result"
    }
   ],
   "source": [
    "not( (2 < 5) and (20 > 15) )"
   ]
  },
  {
   "cell_type": "code",
   "execution_count": 76,
   "id": "b15320f1",
   "metadata": {},
   "outputs": [
    {
     "data": {
      "text/plain": [
       "True"
      ]
     },
     "execution_count": 76,
     "metadata": {},
     "output_type": "execute_result"
    }
   ],
   "source": [
    "not(False)"
   ]
  },
  {
   "cell_type": "code",
   "execution_count": 83,
   "id": "74acbd5d",
   "metadata": {},
   "outputs": [
    {
     "name": "stdout",
     "output_type": "stream",
     "text": [
      "72948279888\n",
      "72948279888\n",
      "True\n",
      "False\n"
     ]
    }
   ],
   "source": [
    "## Identity operator : Compare 2 objects with respect to their memory location \n",
    "\n",
    "a = 10 \n",
    "b = 10\n",
    "\n",
    "print(id(a))   ## Memory location\n",
    "print(id(b))   ## Memory location\n",
    "\n",
    "print(a is b)\n",
    "print(a is not b)"
   ]
  },
  {
   "cell_type": "code",
   "execution_count": 87,
   "id": "07eb6305",
   "metadata": {},
   "outputs": [
    {
     "name": "stdout",
     "output_type": "stream",
     "text": [
      "True\n",
      "False\n"
     ]
    }
   ],
   "source": [
    "## Membership operator : Check if a sequesce is present in a object \n",
    "\n",
    "a = \"India\"\n",
    "b = \"dia\"\n",
    "\n",
    "print(b in a)\n",
    "print(b not in a)\n"
   ]
  },
  {
   "cell_type": "code",
   "execution_count": null,
   "id": "f69e1b3c",
   "metadata": {},
   "outputs": [],
   "source": []
  },
  {
   "cell_type": "code",
   "execution_count": null,
   "id": "e65eeef3",
   "metadata": {},
   "outputs": [],
   "source": []
  }
 ],
 "metadata": {
  "kernelspec": {
   "display_name": "Python 3 (ipykernel)",
   "language": "python",
   "name": "python3"
  },
  "language_info": {
   "codemirror_mode": {
    "name": "ipython",
    "version": 3
   },
   "file_extension": ".py",
   "mimetype": "text/x-python",
   "name": "python",
   "nbconvert_exporter": "python",
   "pygments_lexer": "ipython3",
   "version": "3.9.12"
  }
 },
 "nbformat": 4,
 "nbformat_minor": 5
}
