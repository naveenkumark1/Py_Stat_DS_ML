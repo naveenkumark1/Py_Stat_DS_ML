{
 "cells": [
  {
   "cell_type": "code",
   "execution_count": 3,
   "id": "fa1b4d43",
   "metadata": {},
   "outputs": [
    {
     "name": "stdout",
     "output_type": "stream",
     "text": [
      "Enter the valuesA,B,C,D,E\n",
      "['A', 'B', 'C', 'D', 'E']\n",
      "('A', 'B', 'C', 'D', 'E')\n"
     ]
    }
   ],
   "source": [
    "## Read a comma seperated value \n",
    "\n",
    "x = input(\"Enter the values\")\n",
    "lst = x.split(',')\n",
    "t = tuple(lst)\n",
    "print(lst)\n",
    "print(t)"
   ]
  },
  {
   "cell_type": "code",
   "execution_count": 12,
   "id": "803b91fd",
   "metadata": {},
   "outputs": [
    {
     "name": "stdout",
     "output_type": "stream",
     "text": [
      "[[ 1  2  3  4  5]\n",
      " [12 23 34 45 56]]\n",
      "[ 1  2  3  4  5 12 23 34 45 56]\n",
      "[ 1  2  3  4  5 12 23 34 45 56]\n"
     ]
    }
   ],
   "source": [
    "import numpy as np \n",
    "a = np.array([(1,2,3,4,5),(12,23,34,45,56)])\n",
    "print(a)\n",
    "#print(a.ndim)\n",
    "\n",
    "print(a.flatten())\n",
    "#print(a.ndim)\n",
    "\n",
    "\n",
    "print(a.ravel())\n",
    "#print(a.ndim)"
   ]
  }
 ],
 "metadata": {
  "kernelspec": {
   "display_name": "Python 3 (ipykernel)",
   "language": "python",
   "name": "python3"
  },
  "language_info": {
   "codemirror_mode": {
    "name": "ipython",
    "version": 3
   },
   "file_extension": ".py",
   "mimetype": "text/x-python",
   "name": "python",
   "nbconvert_exporter": "python",
   "pygments_lexer": "ipython3",
   "version": "3.9.12"
  }
 },
 "nbformat": 4,
 "nbformat_minor": 5
}
