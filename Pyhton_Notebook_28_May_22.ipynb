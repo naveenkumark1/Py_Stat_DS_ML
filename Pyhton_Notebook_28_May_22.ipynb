{
 "cells": [
  {
   "cell_type": "code",
   "execution_count": null,
   "id": "350043d5",
   "metadata": {},
   "outputs": [],
   "source": [
    "## Indexing Concept \n",
    "# positive \n",
    "# negative "
   ]
  },
  {
   "cell_type": "code",
   "execution_count": 1,
   "id": "b4934110",
   "metadata": {},
   "outputs": [
    {
     "name": "stdout",
     "output_type": "stream",
     "text": [
      "10\n"
     ]
    }
   ],
   "source": [
    "## Numbers \n",
    "\n",
    "# Single assignment\n",
    "a = 10 \n",
    "\n",
    "print(a)"
   ]
  },
  {
   "cell_type": "code",
   "execution_count": 2,
   "id": "3dc2a0c2",
   "metadata": {},
   "outputs": [
    {
     "name": "stdout",
     "output_type": "stream",
     "text": [
      "1\n",
      "2\n",
      "3\n",
      "4\n"
     ]
    }
   ],
   "source": [
    "# Multiple assignment\n",
    "\n",
    "a,b,c,d = 1,2,3,4\n",
    "\n",
    "print(a)\n",
    "print(b)\n",
    "print(c)\n",
    "print(d)"
   ]
  },
  {
   "cell_type": "code",
   "execution_count": 3,
   "id": "df061901",
   "metadata": {},
   "outputs": [
    {
     "name": "stdout",
     "output_type": "stream",
     "text": [
      "HAPPY BIRTHDAY\n"
     ]
    }
   ],
   "source": [
    "## Strings : Anything that is within \" \"\n",
    "\n",
    "a = \"HAPPY BIRTHDAY\"\n",
    "print(a)"
   ]
  },
  {
   "cell_type": "code",
   "execution_count": 4,
   "id": "2f1d14b1",
   "metadata": {},
   "outputs": [
    {
     "data": {
      "text/plain": [
       "'BIRTH'"
      ]
     },
     "execution_count": 4,
     "metadata": {},
     "output_type": "execute_result"
    }
   ],
   "source": [
    "## Get BIRTH is postive indexing \n",
    "\n",
    "a[6:11]"
   ]
  },
  {
   "cell_type": "code",
   "execution_count": 5,
   "id": "4c94f885",
   "metadata": {},
   "outputs": [
    {
     "data": {
      "text/plain": [
       "'BIRTH'"
      ]
     },
     "execution_count": 5,
     "metadata": {},
     "output_type": "execute_result"
    }
   ],
   "source": [
    "## Get BIRTH is negative indexing \n",
    "a[-8:-3]"
   ]
  },
  {
   "cell_type": "code",
   "execution_count": 6,
   "id": "e02e2519",
   "metadata": {},
   "outputs": [
    {
     "data": {
      "text/plain": [
       "'APPY'"
      ]
     },
     "execution_count": 6,
     "metadata": {},
     "output_type": "execute_result"
    }
   ],
   "source": [
    "## Get APPY is postive indexing \n",
    "a[1:5]"
   ]
  },
  {
   "cell_type": "code",
   "execution_count": 7,
   "id": "52b870d5",
   "metadata": {},
   "outputs": [
    {
     "data": {
      "text/plain": [
       "'APPY'"
      ]
     },
     "execution_count": 7,
     "metadata": {},
     "output_type": "execute_result"
    }
   ],
   "source": [
    "## Get APPY is negative indexing \n",
    "a[-13:-9]"
   ]
  },
  {
   "cell_type": "code",
   "execution_count": 8,
   "id": "86662cb2",
   "metadata": {},
   "outputs": [
    {
     "data": {
      "text/plain": [
       "'BIRTH'"
      ]
     },
     "execution_count": 8,
     "metadata": {},
     "output_type": "execute_result"
    }
   ],
   "source": [
    "## Mixed indexing \n",
    "a[6:-3]"
   ]
  },
  {
   "cell_type": "code",
   "execution_count": 9,
   "id": "237e840e",
   "metadata": {},
   "outputs": [
    {
     "data": {
      "text/plain": [
       "'BIRTH'"
      ]
     },
     "execution_count": 9,
     "metadata": {},
     "output_type": "execute_result"
    }
   ],
   "source": [
    "## Mixed indexing \n",
    "a[-8:11]"
   ]
  },
  {
   "cell_type": "code",
   "execution_count": 12,
   "id": "b2b4fcf5",
   "metadata": {},
   "outputs": [
    {
     "name": "stdout",
     "output_type": "stream",
     "text": [
      "[]\n"
     ]
    },
    {
     "data": {
      "text/plain": [
       "list"
      ]
     },
     "execution_count": 12,
     "metadata": {},
     "output_type": "execute_result"
    }
   ],
   "source": [
    "###### List \n",
    "\n",
    "## Create a empty list \n",
    "\n",
    "ls = []\n",
    "print(ls)\n",
    "\n",
    "type(ls)"
   ]
  },
  {
   "cell_type": "code",
   "execution_count": 14,
   "id": "3cce1fd8",
   "metadata": {},
   "outputs": [
    {
     "data": {
      "text/plain": [
       "[1, 2, 3, 4, 5, 6, 7, 8, 9, 10]"
      ]
     },
     "execution_count": 14,
     "metadata": {},
     "output_type": "execute_result"
    }
   ],
   "source": [
    "## Create a list of numbers 1 to 10 \n",
    "\n",
    "ls = [1,2,3,4,5,6,7,8,9,10]\n",
    "ls"
   ]
  },
  {
   "cell_type": "code",
   "execution_count": 45,
   "id": "b9b045ed",
   "metadata": {},
   "outputs": [
    {
     "name": "stdout",
     "output_type": "stream",
     "text": [
      "TALE\n",
      "['A', 'B', 'C', 'D', 'E', 'LAPTOP']\n"
     ]
    }
   ],
   "source": [
    "## Create a list of alphabets A,B,C,D,E,F\n",
    "\n",
    "ls = ['A','B','C','D','E','FAIRYTALE']\n",
    "\n",
    "print(ls[5][5:])\n",
    "\n",
    "## mUtable \n",
    "ls[5] = 'LAPTOP'\n",
    "\n",
    "print(ls)"
   ]
  },
  {
   "cell_type": "code",
   "execution_count": 46,
   "id": "3c6e5cb2",
   "metadata": {},
   "outputs": [
    {
     "data": {
      "text/plain": [
       "'CISCO'"
      ]
     },
     "execution_count": 46,
     "metadata": {},
     "output_type": "execute_result"
    }
   ],
   "source": [
    "ls = ['SANFRANCISCO']\n",
    "\n",
    "ls[0][7:]"
   ]
  },
  {
   "cell_type": "code",
   "execution_count": 50,
   "id": "53aebab9",
   "metadata": {},
   "outputs": [
    {
     "ename": "TypeError",
     "evalue": "'tuple' object does not support item assignment",
     "output_type": "error",
     "traceback": [
      "\u001b[1;31m---------------------------------------------------------------------------\u001b[0m",
      "\u001b[1;31mTypeError\u001b[0m                                 Traceback (most recent call last)",
      "Input \u001b[1;32mIn [50]\u001b[0m, in \u001b[0;36m<cell line: 6>\u001b[1;34m()\u001b[0m\n\u001b[0;32m      3\u001b[0m tu \u001b[38;5;241m=\u001b[39m (\u001b[38;5;241m1\u001b[39m,\u001b[38;5;241m2\u001b[39m,\u001b[38;5;241m3\u001b[39m,\u001b[38;5;241m4\u001b[39m,\u001b[38;5;241m5\u001b[39m)\n\u001b[0;32m      5\u001b[0m \u001b[38;5;66;03m## Immutable \u001b[39;00m\n\u001b[1;32m----> 6\u001b[0m tu[\u001b[38;5;241m4\u001b[39m]\u001b[38;5;241m=\u001b[39m\u001b[38;5;241m500\u001b[39m\n\u001b[0;32m      8\u001b[0m \u001b[38;5;28mtype\u001b[39m(tu)\n",
      "\u001b[1;31mTypeError\u001b[0m: 'tuple' object does not support item assignment"
     ]
    }
   ],
   "source": [
    "## Tuple \n",
    "\n",
    "tu = (1,2,3,4,5)\n",
    "\n",
    "## Immutable \n",
    "tu[4]=500\n",
    "\n",
    "type(tu)"
   ]
  },
  {
   "cell_type": "code",
   "execution_count": 52,
   "id": "dcb503f2",
   "metadata": {},
   "outputs": [
    {
     "ename": "TypeError",
     "evalue": "'set' object is not subscriptable",
     "output_type": "error",
     "traceback": [
      "\u001b[1;31m---------------------------------------------------------------------------\u001b[0m",
      "\u001b[1;31mTypeError\u001b[0m                                 Traceback (most recent call last)",
      "Input \u001b[1;32mIn [52]\u001b[0m, in \u001b[0;36m<cell line: 4>\u001b[1;34m()\u001b[0m\n\u001b[0;32m      1\u001b[0m manish \u001b[38;5;241m=\u001b[39m {\u001b[38;5;241m1\u001b[39m,\u001b[38;5;241m2\u001b[39m,\u001b[38;5;241m3\u001b[39m,\u001b[38;5;241m4\u001b[39m,\u001b[38;5;241m5\u001b[39m}\n\u001b[0;32m      2\u001b[0m \u001b[38;5;28mtype\u001b[39m(manish)\n\u001b[1;32m----> 4\u001b[0m \u001b[43mmanish\u001b[49m\u001b[43m[\u001b[49m\u001b[38;5;241;43m2\u001b[39;49m\u001b[43m]\u001b[49m\n",
      "\u001b[1;31mTypeError\u001b[0m: 'set' object is not subscriptable"
     ]
    }
   ],
   "source": [
    "manish = {1,2,3,4,5}\n",
    "type(manish)\n",
    "\n",
    "manish[2]"
   ]
  },
  {
   "cell_type": "code",
   "execution_count": 54,
   "id": "1c59ef43",
   "metadata": {},
   "outputs": [
    {
     "name": "stdout",
     "output_type": "stream",
     "text": [
      "dict_keys(['A', 'B'])\n",
      "dict_values([1, 2])\n"
     ]
    }
   ],
   "source": [
    "dt = {'A':1,'B':2}\n",
    "type(dt)\n",
    "\n",
    "print(dt.keys())\n",
    "print(dt.values())"
   ]
  },
  {
   "cell_type": "code",
   "execution_count": 56,
   "id": "73b873d8",
   "metadata": {},
   "outputs": [
    {
     "data": {
      "text/plain": [
       "['ANKIT']"
      ]
     },
     "execution_count": 56,
     "metadata": {},
     "output_type": "execute_result"
    }
   ],
   "source": [
    "ls = [\"SANFRANCISCO\"]\n",
    "ls [0] = 'ANKIT'\n",
    "ls"
   ]
  },
  {
   "cell_type": "code",
   "execution_count": null,
   "id": "11819216",
   "metadata": {},
   "outputs": [],
   "source": [
    "############# List operations "
   ]
  },
  {
   "cell_type": "code",
   "execution_count": 58,
   "id": "6e7c96d9",
   "metadata": {},
   "outputs": [
    {
     "data": {
      "text/plain": [
       "0"
      ]
     },
     "execution_count": 58,
     "metadata": {},
     "output_type": "execute_result"
    }
   ],
   "source": [
    "# length of a list\n",
    "ls = []\n",
    "len(ls)"
   ]
  },
  {
   "cell_type": "code",
   "execution_count": 62,
   "id": "2f30cfb1",
   "metadata": {},
   "outputs": [
    {
     "name": "stdout",
     "output_type": "stream",
     "text": [
      "6\n"
     ]
    },
    {
     "data": {
      "text/plain": [
       "2"
      ]
     },
     "execution_count": 62,
     "metadata": {},
     "output_type": "execute_result"
    }
   ],
   "source": [
    "ls = [10,20,30,10,20,30]\n",
    "\n",
    "print(len(ls))\n",
    "\n",
    "## Count gives the number of times a element is there in the list\n",
    "ls.count(10)"
   ]
  },
  {
   "cell_type": "code",
   "execution_count": 107,
   "id": "32f2c0da",
   "metadata": {},
   "outputs": [
    {
     "name": "stdout",
     "output_type": "stream",
     "text": [
      "[]\n",
      "[1]\n",
      "[1, 2]\n",
      "[1, 2, 3]\n",
      "[1, 2, 3, ['A', 'B']]\n",
      "[1, 2, 3, ['A', 'B'], [1, 2, 3]]\n",
      "[1, 2, 3, ['A', 'B'], [1, 2, 3], {1, 2, 3, 4}]\n",
      "[1, 2, 3, ['A', 'B'], [1, 2, 3], {1, 2, 3, 4}, (23, 23, 23)]\n",
      "[1, 2, 3, ['A', 'B'], [1, 2, 3], {1, 2, 3, 4}, (23, 23, 23), {'A': 2, 'B': 4}]\n"
     ]
    }
   ],
   "source": [
    "### Adding elements to the list using append  ( This will add elements at the end of the list )\n",
    "\n",
    "ls = []\n",
    "print(ls) \n",
    "\n",
    "ls.append(1)\n",
    "print(ls)\n",
    "\n",
    "ls.append(2)\n",
    "print(ls)\n",
    "\n",
    "ls.append(3)\n",
    "print(ls)\n",
    "\n",
    "ls.append(['A','B'])\n",
    "print(ls)\n",
    "\n",
    "ls.append([1,2,3])\n",
    "print(ls)\n",
    "\n",
    "ls.append({1,2,3,4})\n",
    "print(ls)\n",
    "\n",
    "ls.append((23,23,23))\n",
    "print(ls)\n",
    "\n",
    "ls.append({'A':2,'B':4})\n",
    "print(ls)\n",
    "\n",
    "## Cannot add multiple elements in a single go"
   ]
  },
  {
   "cell_type": "code",
   "execution_count": null,
   "id": "85f29d83",
   "metadata": {},
   "outputs": [],
   "source": [
    "### Insert - Will add the elements in any place of the list "
   ]
  },
  {
   "cell_type": "code",
   "execution_count": 2,
   "id": "4c21984b",
   "metadata": {},
   "outputs": [
    {
     "name": "stdout",
     "output_type": "stream",
     "text": [
      "[1, 2, 3, 'India', 4]\n"
     ]
    }
   ],
   "source": [
    "#################### EXPLORE\n",
    "\n",
    "ls = [1,2,3,4]\n",
    "\n",
    "# Syntax \n",
    "# ls.insert(Position, value)\n",
    "\n",
    "ls.insert(3,\"India\")\n",
    "print(ls )"
   ]
  },
  {
   "cell_type": "code",
   "execution_count": null,
   "id": "19eb9463",
   "metadata": {},
   "outputs": [],
   "source": [
    "### Extend - Will add multiple elements "
   ]
  },
  {
   "cell_type": "code",
   "execution_count": 7,
   "id": "d2233220",
   "metadata": {},
   "outputs": [
    {
     "name": "stdout",
     "output_type": "stream",
     "text": [
      "[1, 2, 3, 4, 10, 20, 30, 40, 50]\n",
      "[1, 2, 3, 4, 10, 20, 30, 40, 50, 1, 2, 3, 4, 10, 20, 30, 40, 50]\n"
     ]
    }
   ],
   "source": [
    "#################### EXPLORE\n",
    "\n",
    "ls = [1,2,3,4]\n",
    "\n",
    "ls.extend([10,20,30,40,50])\n",
    "print(ls)\n",
    "\n",
    "ls.extend(ls)\n",
    "print(ls)\n"
   ]
  },
  {
   "cell_type": "code",
   "execution_count": 89,
   "id": "9fd3e2b7",
   "metadata": {},
   "outputs": [
    {
     "name": "stdout",
     "output_type": "stream",
     "text": [
      "[1, ['A', 'B'], [1, 2, 3], {1, 2, 3, 4}, (23, 23, 23), {'A': 2, 'B': 4}]\n",
      "[1, ['A', 'B'], [1, 2, 3], (23, 23, 23), {'A': 2, 'B': 4}]\n",
      "[1, [1, 2, 3], (23, 23, 23), {'A': 2, 'B': 4}]\n"
     ]
    }
   ],
   "source": [
    "#### Remove elements from a list \n",
    "\n",
    "## remove () - Remove the given element from the list\n",
    "\n",
    "print(ls)\n",
    "\n",
    "ls.remove({1, 2, 3, 4})\n",
    "print(ls)\n",
    "\n",
    "ls.remove(['A', 'B'])\n",
    "print(ls)"
   ]
  },
  {
   "cell_type": "code",
   "execution_count": 108,
   "id": "db16a3cb",
   "metadata": {},
   "outputs": [
    {
     "name": "stdout",
     "output_type": "stream",
     "text": [
      "[1, 2, 3, ['A', 'B'], [1, 2, 3], {1, 2, 3, 4}, (23, 23, 23), {'A': 2, 'B': 4}]\n",
      "[1, 2, 3, ['A', 'B'], [1, 2, 3], {1, 2, 3, 4}, (23, 23, 23)]\n",
      "[1, 2, 3, [1, 2, 3], {1, 2, 3, 4}, (23, 23, 23)]\n",
      "[1, 2, 3, {1, 2, 3, 4}, (23, 23, 23)]\n"
     ]
    }
   ],
   "source": [
    "## pop () - By default pop removes the last element, by giving a index of a single value we can \n",
    "# remove other elements too, Multiple elements cannot be removed\n",
    "\n",
    "print(ls)\n",
    "\n",
    "ls.pop()\n",
    "print(ls)\n",
    "\n",
    "ls.pop(3)\n",
    "print(ls)\n",
    "\n",
    "ls.pop(-3)\n",
    "print(ls)"
   ]
  },
  {
   "cell_type": "code",
   "execution_count": 87,
   "id": "a1a986e4",
   "metadata": {},
   "outputs": [
    {
     "ename": "SyntaxError",
     "evalue": "invalid syntax (1840181026.py, line 1)",
     "output_type": "error",
     "traceback": [
      "\u001b[1;36m  Input \u001b[1;32mIn [87]\u001b[1;36m\u001b[0m\n\u001b[1;33m    ls.pop([1:3])\u001b[0m\n\u001b[1;37m             ^\u001b[0m\n\u001b[1;31mSyntaxError\u001b[0m\u001b[1;31m:\u001b[0m invalid syntax\n"
     ]
    }
   ],
   "source": [
    "ls.pop([1:3])\n",
    "print(ls)"
   ]
  },
  {
   "cell_type": "code",
   "execution_count": 104,
   "id": "fb94eb4e",
   "metadata": {},
   "outputs": [
    {
     "data": {
      "text/plain": [
       "[10, 20, 60]"
      ]
     },
     "execution_count": 104,
     "metadata": {},
     "output_type": "execute_result"
    }
   ],
   "source": [
    "ls = [10,20,30,40,50,60]\n",
    "del ls[2:5]\n",
    "\n",
    "ls\n"
   ]
  },
  {
   "cell_type": "code",
   "execution_count": 105,
   "id": "23fc5c7a",
   "metadata": {},
   "outputs": [
    {
     "name": "stdout",
     "output_type": "stream",
     "text": [
      "[10, 20, 60]\n",
      "None\n"
     ]
    }
   ],
   "source": [
    "print(ls)\n",
    "print(ls.clear())"
   ]
  },
  {
   "cell_type": "code",
   "execution_count": null,
   "id": "822d812c",
   "metadata": {},
   "outputs": [],
   "source": []
  },
  {
   "cell_type": "code",
   "execution_count": null,
   "id": "5d3792a6",
   "metadata": {},
   "outputs": [],
   "source": []
  },
  {
   "cell_type": "code",
   "execution_count": null,
   "id": "ed5eca16",
   "metadata": {},
   "outputs": [],
   "source": []
  }
 ],
 "metadata": {
  "kernelspec": {
   "display_name": "Python 3 (ipykernel)",
   "language": "python",
   "name": "python3"
  },
  "language_info": {
   "codemirror_mode": {
    "name": "ipython",
    "version": 3
   },
   "file_extension": ".py",
   "mimetype": "text/x-python",
   "name": "python",
   "nbconvert_exporter": "python",
   "pygments_lexer": "ipython3",
   "version": "3.9.12"
  }
 },
 "nbformat": 4,
 "nbformat_minor": 5
}
