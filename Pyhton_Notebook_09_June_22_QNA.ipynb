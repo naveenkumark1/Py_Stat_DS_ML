{
 "cells": [
  {
   "cell_type": "code",
   "execution_count": 5,
   "id": "c9865bb6",
   "metadata": {},
   "outputs": [
    {
     "name": "stdout",
     "output_type": "stream",
     "text": [
      "[[1 2 3]\n",
      " [4 5 6]\n",
      " [7 8 9]]\n",
      "[1 2 3 4 5 6 7 8 9]\n",
      "(9,)\n",
      "-------------------------------\n",
      "None\n",
      "[[1 2 3]\n",
      " [4 5 6]\n",
      " [7 8 9]]\n",
      "(3, 3)\n"
     ]
    }
   ],
   "source": [
    "import numpy as np\n",
    "ls = np.array([1,2,3,4,5,6,7,8,9])\n",
    "\n",
    "print(ls.reshape(3,3))\n",
    "print(ls)\n",
    "print(ls.shape)\n",
    "print(\"-------------------------------\")\n",
    "print(ls.resize(3,3))\n",
    "print(ls)\n",
    "print(ls.shape)\n"
   ]
  }
 ],
 "metadata": {
  "kernelspec": {
   "display_name": "Python 3 (ipykernel)",
   "language": "python",
   "name": "python3"
  },
  "language_info": {
   "codemirror_mode": {
    "name": "ipython",
    "version": 3
   },
   "file_extension": ".py",
   "mimetype": "text/x-python",
   "name": "python",
   "nbconvert_exporter": "python",
   "pygments_lexer": "ipython3",
   "version": "3.9.12"
  }
 },
 "nbformat": 4,
 "nbformat_minor": 5
}
