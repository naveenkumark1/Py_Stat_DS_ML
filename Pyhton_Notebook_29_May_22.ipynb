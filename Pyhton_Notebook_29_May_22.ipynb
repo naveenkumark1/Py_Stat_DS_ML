{
 "cells": [
  {
   "cell_type": "code",
   "execution_count": 18,
   "id": "d5942980",
   "metadata": {},
   "outputs": [
    {
     "data": {
      "text/plain": [
       "{'A', 'B', 'C'}"
      ]
     },
     "execution_count": 18,
     "metadata": {},
     "output_type": "execute_result"
    }
   ],
   "source": [
    "## Mutability of set \n",
    "\n",
    "# Uniqueness\n",
    "st = {'A','B','C','C','C','C'}\n",
    "st"
   ]
  },
  {
   "cell_type": "code",
   "execution_count": 22,
   "id": "41cefe4e",
   "metadata": {},
   "outputs": [
    {
     "name": "stdout",
     "output_type": "stream",
     "text": [
      "{1, 2, 3, 'INDIA', 'B', 'A', 'C'}\n",
      "{1, 2, 3, 'INDIA', 'B', 'A', 'C'}\n",
      "{1, 2, 3, 'INDIA', 'B', 'A'}\n"
     ]
    }
   ],
   "source": [
    "## Adding of elements \n",
    "st = {'A','B','C',1,2,3}\n",
    "st\n",
    "\n",
    "st.add(\"INDIA\")\n",
    "print(st)\n",
    "\n",
    "## remove element from a set \n",
    "print(st)\n",
    "\n",
    "st.remove('C')\n",
    "print(st)"
   ]
  },
  {
   "cell_type": "code",
   "execution_count": 26,
   "id": "ae9633b7",
   "metadata": {},
   "outputs": [
    {
     "name": "stdout",
     "output_type": "stream",
     "text": [
      "<class 'set'>\n",
      "<class 'frozenset'>\n"
     ]
    },
    {
     "data": {
      "text/plain": [
       "frozenset({1, 2, 3, 4, 5, 'A', 'B'})"
      ]
     },
     "execution_count": 26,
     "metadata": {},
     "output_type": "execute_result"
    }
   ],
   "source": [
    "## Frozen set \n",
    "\n",
    "ls = {'A',\"B\",'A',\"B\",1,2,3,4,5,}\n",
    "print(type(ls))\n",
    "\n",
    "stt = frozenset(ls)\n",
    "print(type(stt))\n",
    "stt"
   ]
  },
  {
   "cell_type": "code",
   "execution_count": 13,
   "id": "386eb4aa",
   "metadata": {},
   "outputs": [
    {
     "ename": "AttributeError",
     "evalue": "'frozenset' object has no attribute 'add'",
     "output_type": "error",
     "traceback": [
      "\u001b[1;31m---------------------------------------------------------------------------\u001b[0m",
      "\u001b[1;31mAttributeError\u001b[0m                            Traceback (most recent call last)",
      "Input \u001b[1;32mIn [13]\u001b[0m, in \u001b[0;36m<cell line: 2>\u001b[1;34m()\u001b[0m\n\u001b[0;32m      1\u001b[0m \u001b[38;5;66;03m# Adding elements to frozen set \u001b[39;00m\n\u001b[1;32m----> 2\u001b[0m \u001b[43mstt\u001b[49m\u001b[38;5;241;43m.\u001b[39;49m\u001b[43madd\u001b[49m(\u001b[38;5;241m100\u001b[39m)\n",
      "\u001b[1;31mAttributeError\u001b[0m: 'frozenset' object has no attribute 'add'"
     ]
    }
   ],
   "source": [
    "# Adding elements to frozen set \n",
    "stt.add(100)"
   ]
  },
  {
   "cell_type": "code",
   "execution_count": 20,
   "id": "a22269c5",
   "metadata": {},
   "outputs": [
    {
     "ename": "AttributeError",
     "evalue": "'frozenset' object has no attribute 'remove'",
     "output_type": "error",
     "traceback": [
      "\u001b[1;31m---------------------------------------------------------------------------\u001b[0m",
      "\u001b[1;31mAttributeError\u001b[0m                            Traceback (most recent call last)",
      "Input \u001b[1;32mIn [20]\u001b[0m, in \u001b[0;36m<cell line: 2>\u001b[1;34m()\u001b[0m\n\u001b[0;32m      1\u001b[0m \u001b[38;5;66;03m## Remove element from a set \u001b[39;00m\n\u001b[1;32m----> 2\u001b[0m \u001b[43mstt\u001b[49m\u001b[38;5;241;43m.\u001b[39;49m\u001b[43mremove\u001b[49m(\u001b[38;5;241m3\u001b[39m)\n",
      "\u001b[1;31mAttributeError\u001b[0m: 'frozenset' object has no attribute 'remove'"
     ]
    }
   ],
   "source": [
    "## Remove element from a set \n",
    "stt.remove(3)"
   ]
  },
  {
   "cell_type": "code",
   "execution_count": null,
   "id": "482181a6",
   "metadata": {},
   "outputs": [],
   "source": [
    "## Features of Set \n",
    "# Unique values\n",
    "# Unordered : There is no order in the set \n",
    "# Mutable : You can add and remove elements of a set "
   ]
  },
  {
   "cell_type": "code",
   "execution_count": null,
   "id": "214ba4ea",
   "metadata": {},
   "outputs": [],
   "source": [
    "## Frozenset = Features of Set + Features of Tuple \n",
    "# Uniquenss : No duplicates \n",
    "# Unordered : order in a frozenset is menaningless \n",
    "# Immutable : You cannot change the frozen set once it is created "
   ]
  },
  {
   "cell_type": "code",
   "execution_count": 29,
   "id": "3fc8a677",
   "metadata": {},
   "outputs": [
    {
     "data": {
      "text/plain": [
       "{1, 2, 3, 3.2, 4.5, 'A', 'India', 'b', 'c'}"
      ]
     },
     "execution_count": 29,
     "metadata": {},
     "output_type": "execute_result"
    }
   ],
   "source": [
    "## Replace\n",
    "ls = {1,2,3,'A','b','c','India',3.2,4.5}\n",
    "ls"
   ]
  },
  {
   "cell_type": "code",
   "execution_count": 31,
   "id": "e285dfee",
   "metadata": {},
   "outputs": [
    {
     "ename": "TypeError",
     "evalue": "'set' object is not subscriptable",
     "output_type": "error",
     "traceback": [
      "\u001b[1;31m---------------------------------------------------------------------------\u001b[0m",
      "\u001b[1;31mTypeError\u001b[0m                                 Traceback (most recent call last)",
      "Input \u001b[1;32mIn [31]\u001b[0m, in \u001b[0;36m<cell line: 1>\u001b[1;34m()\u001b[0m\n\u001b[1;32m----> 1\u001b[0m \u001b[43mls\u001b[49m\u001b[43m[\u001b[49m\u001b[38;5;241;43m3\u001b[39;49m\u001b[43m:\u001b[49m\u001b[38;5;241;43m3\u001b[39;49m\u001b[43m]\u001b[49m\n",
      "\u001b[1;31mTypeError\u001b[0m: 'set' object is not subscriptable"
     ]
    }
   ],
   "source": [
    "## indexing not working \n",
    "ls[3:3]"
   ]
  },
  {
   "cell_type": "code",
   "execution_count": 35,
   "id": "66e4a89a",
   "metadata": {},
   "outputs": [
    {
     "name": "stdout",
     "output_type": "stream",
     "text": [
      "{'c', 1, 2, 3, 3.2, 'b', 4.5, 'India', 'A'}\n",
      "{'c', 1, 2, 3, 3.2, 'b', 4.5, 'A'}\n",
      "{'c', 1, 2, 3, 3.2, 'b', 4.5, 'Sai_Krishna', 'A'}\n"
     ]
    }
   ],
   "source": [
    "ls = {1,2,3,'A','b','c','India',3.2,4.5}\n",
    "print(ls)\n",
    "ls.remove('India')\n",
    "print(ls)\n",
    "ls.add('Sai_Krishna')\n",
    "print(ls)"
   ]
  },
  {
   "cell_type": "code",
   "execution_count": null,
   "id": "460f50f8",
   "metadata": {},
   "outputs": [],
   "source": [
    "## Control flows and functions in python "
   ]
  },
  {
   "cell_type": "code",
   "execution_count": 42,
   "id": "ce1500bc",
   "metadata": {},
   "outputs": [
    {
     "name": "stdout",
     "output_type": "stream",
     "text": [
      "Value of X is 10\n",
      "Yes my answer is right\n"
     ]
    }
   ],
   "source": [
    "# if & else\n",
    "\n",
    "x = 10 \n",
    "\n",
    "if x == 10:\n",
    "    print(\"Value of X is 10\")\n",
    "    print(\"Yes my answer is right\")\n",
    "else:\n",
    "    print(\"Value of X is NOT 10\")"
   ]
  },
  {
   "cell_type": "code",
   "execution_count": 45,
   "id": "682c2d83",
   "metadata": {},
   "outputs": [
    {
     "name": "stdout",
     "output_type": "stream",
     "text": [
      "X not greater than 100 and not less than 10\n"
     ]
    }
   ],
   "source": [
    "# if, elif , else \n",
    "\n",
    "x = 80\n",
    "\n",
    "if x > 100:\n",
    "    print(\"X greater than 100\")\n",
    "\n",
    "elif x < 10:\n",
    "    print(\"X less than 10\")\n",
    "    \n",
    "else:\n",
    "    print(\"X not greater than 100 and not less than 10\")\n"
   ]
  },
  {
   "cell_type": "code",
   "execution_count": 47,
   "id": "b76f583e",
   "metadata": {},
   "outputs": [
    {
     "name": "stdout",
     "output_type": "stream",
     "text": [
      "Number is odd\n"
     ]
    }
   ],
   "source": [
    "## Find a number if its even or odd \n",
    "\n",
    "x = 33\n",
    "\n",
    "if x%2 == 0:\n",
    "    print(\"Number is even\")\n",
    "else:\n",
    "    print(\"Number is odd\")\n",
    "\n"
   ]
  },
  {
   "cell_type": "code",
   "execution_count": 51,
   "id": "646502f5",
   "metadata": {},
   "outputs": [
    {
     "name": "stdout",
     "output_type": "stream",
     "text": [
      "5\n",
      "13\n"
     ]
    }
   ],
   "source": [
    "ls = [1,2,3,4,5]\n",
    "\n",
    "print(len(ls))\n",
    "\n",
    "ls = [1,2,3,4,\"INDIANCOUNTRY\"]\n",
    "\n",
    "print(len(ls[4]))\n"
   ]
  },
  {
   "cell_type": "code",
   "execution_count": 56,
   "id": "0651ff3a",
   "metadata": {},
   "outputs": [
    {
     "data": {
      "text/plain": [
       "3"
      ]
     },
     "execution_count": 56,
     "metadata": {},
     "output_type": "execute_result"
    }
   ],
   "source": [
    "ls = ['ert','set','1221']\n",
    "len(ls[0])"
   ]
  }
 ],
 "metadata": {
  "kernelspec": {
   "display_name": "Python 3 (ipykernel)",
   "language": "python",
   "name": "python3"
  },
  "language_info": {
   "codemirror_mode": {
    "name": "ipython",
    "version": 3
   },
   "file_extension": ".py",
   "mimetype": "text/x-python",
   "name": "python",
   "nbconvert_exporter": "python",
   "pygments_lexer": "ipython3",
   "version": "3.9.12"
  }
 },
 "nbformat": 4,
 "nbformat_minor": 5
}
